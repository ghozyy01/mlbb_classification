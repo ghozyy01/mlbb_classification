{
 "cells": [
  {
   "cell_type": "code",
   "execution_count": 8,
   "id": "08390168-b115-447d-ae10-b650c9e1189f",
   "metadata": {},
   "outputs": [
    {
     "name": "stdout",
     "output_type": "stream",
     "text": [
      "            kill     assist      death     turret\n",
      "count  10.000000  10.000000  10.000000  10.000000\n",
      "mean    6.200000   7.300000   4.100000   1.000000\n",
      "std     4.211096   4.110961   1.911951   1.154701\n",
      "min     1.000000   2.000000   2.000000   0.000000\n",
      "25%     2.250000   4.000000   2.250000   0.000000\n",
      "50%     6.000000   7.000000   4.000000   0.500000\n",
      "75%     9.750000  10.750000   5.750000   2.000000\n",
      "max    12.000000  13.000000   7.000000   3.000000\n",
      "<class 'pandas.core.frame.DataFrame'>\n",
      "RangeIndex: 10 entries, 0 to 9\n",
      "Data columns (total 5 columns):\n",
      " #   Column  Non-Null Count  Dtype \n",
      "---  ------  --------------  ----- \n",
      " 0   kill    10 non-null     int64 \n",
      " 1   assist  10 non-null     int64 \n",
      " 2   death   10 non-null     int64 \n",
      " 3   turret  10 non-null     int64 \n",
      " 4   role    10 non-null     object\n",
      "dtypes: int64(4), object(1)\n",
      "memory usage: 532.0+ bytes\n",
      "None\n",
      "kill      0\n",
      "assist    0\n",
      "death     0\n",
      "turret    0\n",
      "role      0\n",
      "dtype: int64\n",
      "role\n",
      "penyerang    5\n",
      "bertahan     5\n",
      "Name: count, dtype: int64\n"
     ]
    }
   ],
   "source": [
    "import pandas as pd\n",
    "\n",
    "df = pd.read_csv(\"dataset.csv\")\n",
    "\n",
    "df\n",
    "df.head()\n",
    "df.tail()\n",
    "print(df.describe())\n",
    "print(df.info())\n",
    "print(df.isnull().sum())\n",
    "print(df[\"role\"].value_counts())"
   ]
  },
  {
   "cell_type": "code",
   "execution_count": 9,
   "id": "70fb82c9-bd02-4997-9239-8eb236fba4f2",
   "metadata": {},
   "outputs": [
    {
     "data": {
      "image/png": "[encoded data removed]",
      "text/plain": [
       "<Figure size 600x500 with 1 Axes>"
      ]
     },
     "metadata": {},
     "output_type": "display_data"
    }
   ],
   "source": [
    "import matplotlib.pyplot as plt\n",
    "\n",
    "penyerang = df[df[\"role\"]== \"penyerang\"]\n",
    "bertahan = df[df[\"role\"] == \"bertahan\"]\n",
    "\n",
    "plt.figure(figsize=(6,5))\n",
    "plt.scatter(penyerang[\"kill\"], penyerang[\"assist\"], color=\"red\", s=100,alpha=0.7,label=\"penyerang\")\n",
    "plt.scatter(bertahan[\"kill\"], bertahan[\"assist\"], color=\"blue\", s=100,alpha=0.7,label=\"bertahan\")\n",
    "\n",
    "plt.xlabel(\"Kill\")\n",
    "plt.ylabel(\"Assist\")\n",
    "plt.title(\"MLBB Style Kill vs Assist\")\n",
    "plt.legend()\n",
    "plt.grid(True,linestyle=\"--\", alpha=0.5)\n",
    "plt.show()"
   ]
  },
  {
   "cell_type": "code",
   "execution_count": 11,
   "id": "333ed775-338b-4630-be18-9c507b65d09b",
   "metadata": {},
   "outputs": [
    {
     "name": "stdout",
     "output_type": "stream",
     "text": [
      "Accuracy : 1.0\n"
     ]
    }
   ],
   "source": [
    "from sklearn.linear_model import LogisticRegression\n",
    "from sklearn.model_selection import train_test_split\n",
    "from sklearn.metrics import accuracy_score\n",
    "\n",
    "X = df[[\"kill\",\"assist\",\"death\",\"turret\"]]\n",
    "y = df[\"role\"]\n",
    "X_train, X_test, y_train, y_test = train_test_split(X, y, test_size=0.2, random_state=42)\n",
    "model = LogisticRegression()\n",
    "model.fit(X_train, y_train)\n",
    "y_pred = model.predict(X_test)\n",
    "print(\"Accuracy :\", accuracy_score(y_test, y_pred))"
   ]
  },
  {
   "cell_type": "code",
   "execution_count": 22,
   "id": "4516d6a9-e02a-46b1-8244-255f5310e609",
   "metadata": {},
   "outputs": [
    {
     "data": {
      "text/plain": [
       "'bertahan'"
      ]
     },
     "execution_count": 22,
     "metadata": {},
     "output_type": "execute_result"
    }
   ],
   "source": [
    "data_baru = pd.DataFrame([[1,12,7,0]], columns=[\"kill\",\"assist\",\"death\",\"turret\"])\n",
    "model.predict(data_baru)[0]"
   ]
  },
  {
   "cell_type": "code",
   "execution_count": 23,
   "id": "d205f5ba-16fc-438b-b920-ec1cc28c3d93",
   "metadata": {},
   "outputs": [
    {
     "data": {
      "text/plain": [
       "array(['penyerang'], dtype=object)"
      ]
     },
     "execution_count": 23,
     "metadata": {},
     "output_type": "execute_result"
    }
   ],
   "source": [
    " data_lain = pd.DataFrame([[11,8,2,2]], columns=[\"kill\",\"assist\",\"death\",\"turret\"])\n",
    " model.predict(data_lain)"
   ]
  },
  {
   "cell_type": "code",
   "execution_count": 24,
   "id": "6a5345c7-f23e-4a28-9bc3-1d987881c32b",
   "metadata": {},
   "outputs": [
    {
     "data": {
      "text/plain": [
       "['mlbb_model.joblib']"
      ]
     },
     "execution_count": 24,
     "metadata": {},
     "output_type": "execute_result"
    }
   ],
   "source": [
    "import joblib \n",
    "joblib.dump(model, \"mlbb_model.joblib\")"
   ]
  },
  {
   "cell_type": "code",
   "execution_count": 25,
   "id": "1d5ee220-133d-4e1a-bfd7-e924c0d67d48",
   "metadata": {},
   "outputs": [
    {
     "data": {
      "text/plain": [
       "array(['bertahan'], dtype=object)"
      ]
     },
     "execution_count": 25,
     "metadata": {},
     "output_type": "execute_result"
    }
   ],
   "source": [
    "import joblib\n",
    "import pandas as pd\n",
    "loaded_model = joblib.load(\"mlbb_model.joblib\")\n",
    "data_baru = pd.DataFrame([[3,9,5,1]], columns=[\"kill\",\"assist\",\"death\",\"turret\"])\n",
    "loaded_model.predict(data_baru)"
   ]
  }
 ],
 "metadata": {
  "kernelspec": {
   "display_name": "Python 3 (ipykernel)",
   "language": "python",
   "name": "python3"
  },
  "language_info": {
   "codemirror_mode": {
    "name": "ipython",
    "version": 3
   },
   "file_extension": ".py",
   "mimetype": "text/x-python",
   "name": "python",
   "nbconvert_exporter": "python",
   "pygments_lexer": "ipython3",
   "version": "3.13.5"
  }
 },
 "nbformat": 4,
 "nbformat_minor": 5
}
